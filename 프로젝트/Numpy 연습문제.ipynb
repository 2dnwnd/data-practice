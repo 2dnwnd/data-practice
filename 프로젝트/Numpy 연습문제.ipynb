{
 "cells": [
  {
   "cell_type": "code",
   "execution_count": 3,
   "metadata": {},
   "outputs": [
    {
     "data": {
      "text/plain": [
       "10"
      ]
     },
     "execution_count": 3,
     "metadata": {},
     "output_type": "execute_result"
    }
   ],
   "source": [
    "import numpy as np\n",
    "\n",
    "a = np.array(range(1,11))\n",
    "b = np.array(range(10,101,10))\n",
    "a+b,a-b,a*b,a/b\n",
    "\n",
    "c = a+b\n",
    "c.shape\n",
    "c.size"
   ]
  },
  {
   "cell_type": "code",
   "execution_count": 10,
   "metadata": {},
   "outputs": [
    {
     "name": "stdout",
     "output_type": "stream",
     "text": [
      "대상자들의 BMI : [25.68007405 23.88946281 20.19946976]\n",
      "[25.68007405]\n"
     ]
    }
   ],
   "source": [
    "import numpy as np\n",
    "\n",
    "heights = [1.83, 1.76, 1.78]\n",
    "weights = [86, 74, 64]\n",
    "\n",
    "np_heights = np.array(heights)\n",
    "np_weights = np.array(weights)\n",
    "\n",
    "bmi = np_weights/(np_heights**2)\n",
    "print('대상자들의 BMI :',bmi)\n",
    "print(bmi[bmi>25])"
   ]
  },
  {
   "cell_type": "code",
   "execution_count": 9,
   "metadata": {},
   "outputs": [
    {
     "data": {
      "text/plain": [
       "array([89, 78])"
      ]
     },
     "execution_count": 9,
     "metadata": {},
     "output_type": "execute_result"
    }
   ],
   "source": [
    "scores = np.array([88,72,93,94,89,78,99])\n",
    "scores[4:-1]"
   ]
  },
  {
   "cell_type": "code",
   "execution_count": 14,
   "metadata": {},
   "outputs": [
    {
     "data": {
      "text/plain": [
       "array([6, 7, 8, 9])"
      ]
     },
     "execution_count": 14,
     "metadata": {},
     "output_type": "execute_result"
    }
   ],
   "source": [
    "np_array = np.array([[1,2,3], [4,5,6] ,[7,8,9]])\n",
    "np_array >5\n",
    "np_array[np_array >5]"
   ]
  },
  {
   "cell_type": "code",
   "execution_count": 19,
   "metadata": {},
   "outputs": [
    {
     "name": "stdout",
     "output_type": "stream",
     "text": [
      "몸무게가 80이상인 선수 정보 [[183.   86.2]\n",
      " [176.   80.1]]\n",
      "키카 180이상인 선수 정보 [[183.   86.2]\n",
      " [181.   78.5]]\n"
     ]
    }
   ],
   "source": [
    "players =[[170, 76.4]\n",
    "         ,[183, 86.2]\n",
    "         ,[181, 78.5]\n",
    "         ,[176, 80.1]]\n",
    "\n",
    "np_players = np.array(players)\n",
    "print('몸무게가 80이상인 선수 정보',np_players[np_players[:,1] > 80.0]) #[:,1] 두번째 열\n",
    "print('키카 180이상인 선수 정보',np_players[np_players[:,0] > 180])"
   ]
  },
  {
   "cell_type": "code",
   "execution_count": 20,
   "metadata": {},
   "outputs": [
    {
     "data": {
      "text/plain": [
       "array([ 1.45108526,  1.66874767, -0.86790089, -0.14973126,  0.65893794])"
      ]
     },
     "execution_count": 20,
     "metadata": {},
     "output_type": "execute_result"
    }
   ],
   "source": [
    "np.random.randn(5)"
   ]
  },
  {
   "cell_type": "code",
   "execution_count": 2,
   "metadata": {},
   "outputs": [
    {
     "name": "stdout",
     "output_type": "stream",
     "text": [
      "신장 평균값 174.52979982238077\n",
      "신장 중앙값 175.81344934039902\n",
      "체중 평균값 71.29724328940256\n",
      "체중 중앙값 71.21707343379333\n",
      "나이 평균값 21.9\n",
      "나이 중앙값 22.5\n"
     ]
    }
   ],
   "source": [
    "import numpy as np\n",
    "\n",
    "players = np.zeros((100,3)) #배열 0으로 채워서 생성\n",
    "players[:,0] = 10 * np.random.randn(100) + 175\n",
    "players[:,1] = 10 * np.random.randn(100) + 70\n",
    "players[:,2] = np.floor(10 * np.random.randn(100)) + 22 #소수점이하 없애주는 함수 floor\n",
    "\n",
    "heights = players[:,0]\n",
    "print('신장 평균값',np.mean(heights))\n",
    "print('신장 중앙값',np.median(heights))\n",
    "\n",
    "weights = players[:,1]\n",
    "print('체중 평균값',np.mean(weights))\n",
    "print('체중 중앙값',np.median(weights))\n",
    "\n",
    "ages = players[:,2]\n",
    "print('나이 평균값',np.mean(ages))\n",
    "print('나이 중앙값',np.median(ages))"
   ]
  },
  {
   "cell_type": "code",
   "execution_count": 20,
   "metadata": {},
   "outputs": [
    {
     "name": "stdout",
     "output_type": "stream",
     "text": [
      "[ 1  2  3  4  5  6  7  8  9 10 11 12 13 14 15 16 17 18 19 20]\n",
      "[20 19 18 17 16 15 14 13 12 11 10  9  8  7  6  5  4  3  2  1]\n",
      "[20 19 18 17 16 15 14 13 12 11 10  9  8  7  6  5  4  3  2  1]\n",
      "모든 원소의 합 : 210\n",
      "[[ 1  2  3  4]\n",
      " [ 5  6  7  8]\n",
      " [ 9 10 11 12]\n",
      " [13 14 15 16]\n",
      " [17 18 19 20]]\n"
     ]
    }
   ],
   "source": [
    "num_arr = np.arange(1,21)\n",
    "print(num_arr)\n",
    "print(num_arr[::-1])\n",
    "print(np.flip(num_arr))\n",
    "print('모든 원소의 합 :',sum(num_arr))\n",
    "print(num_arr.reshape(5,4))"
   ]
  },
  {
   "cell_type": "code",
   "execution_count": 26,
   "metadata": {},
   "outputs": [
    {
     "name": "stdout",
     "output_type": "stream",
     "text": [
      "[[ 0  1  2  3  4]\n",
      " [ 5  6  7  8  9]\n",
      " [10 11 12 13 14]\n",
      " [15 16 17 18 19]\n",
      " [20 21 22 23 24]]\n"
     ]
    }
   ],
   "source": [
    "n_arr = np.arange(25).reshape(5,5)\n",
    "print(n_arr)"
   ]
  },
  {
   "cell_type": "code",
   "execution_count": 29,
   "metadata": {},
   "outputs": [
    {
     "data": {
      "text/plain": [
       "24"
      ]
     },
     "execution_count": 29,
     "metadata": {},
     "output_type": "execute_result"
    }
   ],
   "source": [
    "n_arr[0,0]\n",
    "n_arr[4,4]"
   ]
  },
  {
   "cell_type": "code",
   "execution_count": 52,
   "metadata": {},
   "outputs": [
    {
     "name": "stdout",
     "output_type": "stream",
     "text": [
      "[[0 1 2 3 4]\n",
      " [5 6 7 8 9]]\n"
     ]
    }
   ],
   "source": [
    "print(n_arr[0:2,:])"
   ]
  },
  {
   "cell_type": "code",
   "execution_count": 32,
   "metadata": {},
   "outputs": [
    {
     "data": {
      "text/plain": [
       "array([[10, 11, 12, 13, 14],\n",
       "       [15, 16, 17, 18, 19],\n",
       "       [20, 21, 22, 23, 24]])"
      ]
     },
     "execution_count": 32,
     "metadata": {},
     "output_type": "execute_result"
    }
   ],
   "source": [
    "n_arr[2:5,:]"
   ]
  },
  {
   "cell_type": "code",
   "execution_count": 42,
   "metadata": {},
   "outputs": [
    {
     "data": {
      "text/plain": [
       "array([[ 0,  2,  4],\n",
       "       [10, 12, 14],\n",
       "       [20, 22, 24]])"
      ]
     },
     "execution_count": 42,
     "metadata": {},
     "output_type": "execute_result"
    }
   ],
   "source": [
    "n_arr[0:5:2,0:5:2]"
   ]
  },
  {
   "cell_type": "code",
   "execution_count": 51,
   "metadata": {},
   "outputs": [
    {
     "data": {
      "text/plain": [
       "array([[0, 1],\n",
       "       [2, 3],\n",
       "       [4, 5],\n",
       "       [6, 7],\n",
       "       [8, 9]])"
      ]
     },
     "execution_count": 51,
     "metadata": {},
     "output_type": "execute_result"
    }
   ],
   "source": [
    "n_arr[0:2,:].reshape(5,2)"
   ]
  },
  {
   "cell_type": "code",
   "execution_count": 54,
   "metadata": {},
   "outputs": [
    {
     "name": "stdout",
     "output_type": "stream",
     "text": [
      "[[[ 0.87633893 -0.7131743   0.42793173]\n",
      "  [ 0.46003527  0.29962707 -0.12883495]\n",
      "  [ 0.39275948 -1.25101242  1.50069077]]\n",
      "\n",
      " [[-0.28870376 -0.08721909 -0.23620719]\n",
      "  [-0.86524827  1.28944505 -0.54951213]\n",
      "  [-0.36939375 -1.84637786  0.45071757]]\n",
      "\n",
      " [[-1.12589555  1.24366844  0.52421736]\n",
      "  [ 1.23073607  1.75289793 -1.25982443]\n",
      "  [ 1.37757488 -0.06733566 -1.21486132]]]\n"
     ]
    }
   ],
   "source": [
    "a = np.random.randn(3,3,3)\n",
    "print(a)"
   ]
  },
  {
   "cell_type": "code",
   "execution_count": 55,
   "metadata": {},
   "outputs": [
    {
     "data": {
      "text/plain": [
       "1.7528979333030004"
      ]
     },
     "execution_count": 55,
     "metadata": {},
     "output_type": "execute_result"
    }
   ],
   "source": [
    "np.max(a)"
   ]
  },
  {
   "cell_type": "code",
   "execution_count": 56,
   "metadata": {},
   "outputs": [
    {
     "data": {
      "text/plain": [
       "22"
      ]
     },
     "execution_count": 56,
     "metadata": {},
     "output_type": "execute_result"
    }
   ],
   "source": [
    "np.argmax(a)"
   ]
  },
  {
   "cell_type": "code",
   "execution_count": 72,
   "metadata": {
    "scrolled": true
   },
   "outputs": [
    {
     "name": "stdout",
     "output_type": "stream",
     "text": [
      "[[1. 0. 1. 0. 1.]\n",
      " [0. 1. 0. 1. 0.]\n",
      " [1. 0. 1. 0. 1.]\n",
      " [0. 1. 0. 1. 0.]\n",
      " [1. 0. 1. 0. 1.]]\n",
      "행방향 성분의 합 :\n",
      " [3. 2. 3. 2. 3.]\n"
     ]
    }
   ],
   "source": [
    "a = np.zeros((5,5))\n",
    "a[0:5:2,0:5:2] = 1\n",
    "a[1:5:2,1:5:2] = 1\n",
    "print(a)\n",
    "print('행방향 성분의 합 :\\n',a.sum(axis=0))"
   ]
  },
  {
   "cell_type": "code",
   "execution_count": 1,
   "metadata": {},
   "outputs": [
    {
     "name": "stdout",
     "output_type": "stream",
     "text": [
      "[[1 0 1 0 1]\n",
      " [0 1 0 1 0]\n",
      " [1 0 1 0 1]\n",
      " [0 1 0 1 0]\n",
      " [1 0 1 0 1]]\n"
     ]
    }
   ],
   "source": [
    "# 10.4-1\n",
    "import numpy as np\n",
    "n_arr = np.arange(25).reshape(5,5)\n",
    "for i in range(5):\n",
    "    for j in range(5):\n",
    "        if n_arr[i][j] % 2 == 0:\n",
    "            n_arr[i][j] = 1\n",
    "        else :\n",
    "            n_arr[i][j] = 0\n",
    "print(n_arr)"
   ]
  },
  {
   "cell_type": "code",
   "execution_count": 80,
   "metadata": {},
   "outputs": [
    {
     "name": "stdout",
     "output_type": "stream",
     "text": [
      "10번쨰 원소 :  9\n",
      "20번째 원소 : 19\n"
     ]
    }
   ],
   "source": [
    "a = np.arange(32).reshape(4,4,2)\n",
    "a = a.flatten()\n",
    "print('10번쨰 원소 : ',a[9])\n",
    "print('20번째 원소 :',a[19])"
   ]
  },
  {
   "cell_type": "code",
   "execution_count": 25,
   "metadata": {},
   "outputs": [
    {
     "name": "stdout",
     "output_type": "stream",
     "text": [
      "[[1.         0.99571475]\n",
      " [0.99571475 1.        ]]\n",
      "[[1.         0.89051759]\n",
      " [0.89051759 1.        ]]\n",
      "[[ 1.         -0.19077036]\n",
      " [-0.19077036  1.        ]]\n",
      "[[ 1.          0.99571475  0.89051759 -0.19077036]\n",
      " [ 0.99571475  1.          0.87777782 -0.18714925]\n",
      " [ 0.89051759  0.87777782  1.         -0.12001583]\n",
      " [-0.19077036 -0.18714925 -0.12001583  1.        ]]\n"
     ]
    }
   ],
   "source": [
    "# 10.6\n",
    "import numpy as np\n",
    "x1 = [i for i in range(100)]\n",
    "x2 = [i + np.random.randint(1,10) for i in range(100)]\n",
    "x3 = [i + np.random.randint(1,50) for i in range(100)]\n",
    "x4 = [np.random.randint(1,100) for i in range(100)]\n",
    "result1 = np.corrcoef(x1,x2)\n",
    "result2 = np.corrcoef(x1,x3)\n",
    "result3 = np.corrcoef(x1,x4)\n",
    "result4 = np.corrcoef([x1,x2,x3,x4])\n",
    "print(result1)\n",
    "print(result2)\n",
    "print(result3)\n",
    "print(result4)"
   ]
  },
  {
   "cell_type": "code",
   "execution_count": null,
   "metadata": {},
   "outputs": [],
   "source": []
  }
 ],
 "metadata": {
  "kernelspec": {
   "display_name": "Python 3",
   "language": "python",
   "name": "python3"
  },
  "language_info": {
   "codemirror_mode": {
    "name": "ipython",
    "version": 3
   },
   "file_extension": ".py",
   "mimetype": "text/x-python",
   "name": "python",
   "nbconvert_exporter": "python",
   "pygments_lexer": "ipython3",
   "version": "3.8.5"
  }
 },
 "nbformat": 4,
 "nbformat_minor": 4
}
